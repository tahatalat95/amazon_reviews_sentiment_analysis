{
 "cells": [
  {
   "cell_type": "markdown",
   "metadata": {
    "id": "dLp8at7D7QJQ"
   },
   "source": [
    "Sentiment Analysis For Amazon Reviews"
   ]
  },
  {
   "cell_type": "markdown",
   "metadata": {
    "id": "VQ8spHLp7UQH"
   },
   "source": [
    "Importing the libraries"
   ]
  },
  {
   "cell_type": "code",
   "execution_count": 46,
   "metadata": {
    "id": "yDUgzynI7TIa"
   },
   "outputs": [],
   "source": [
    "import numpy as np\n",
    "import matplotlib.pyplot as plt\n",
    "import pandas as pd\n",
    "import random\n",
    "import re  # regular exp\n",
    "import nltk\n",
    "import seaborn as sns\n",
    "from nltk.corpus import stopwords\n",
    "from nltk.stem.porter import PorterStemmer\n",
    "from sklearn.naive_bayes import MultinomialNB\n",
    "from sklearn.feature_extraction.text import CountVectorizer\n",
    "from sklearn.metrics import confusion_matrix, accuracy_score\n",
    "from imblearn.under_sampling import RandomUnderSampler\n",
    "from imblearn.over_sampling import RandomOverSampler"
   ]
  },
  {
   "cell_type": "markdown",
   "metadata": {
    "id": "maOotfpS7bfe"
   },
   "source": [
    "Importing Dataset"
   ]
  },
  {
   "cell_type": "code",
   "execution_count": 47,
   "metadata": {
    "colab": {
     "base_uri": "https://localhost:8080/"
    },
    "id": "juxuYLol7MZ7",
    "outputId": "540ade38-2778-49a8-bdf4-7dafe35ddd80"
   },
   "outputs": [
    {
     "name": "stderr",
     "output_type": "stream",
     "text": [
      "C:\\Users\\Administrator\\anaconda3\\lib\\site-packages\\IPython\\core\\interactiveshell.py:3165: DtypeWarning: Columns (1,10) have mixed types.Specify dtype option on import or set low_memory=False.\n",
      "  has_raised = await self.run_ast_nodes(code_ast.body, cell_name,\n"
     ]
    },
    {
     "data": {
      "text/html": [
       "<div>\n",
       "<style scoped>\n",
       "    .dataframe tbody tr th:only-of-type {\n",
       "        vertical-align: middle;\n",
       "    }\n",
       "\n",
       "    .dataframe tbody tr th {\n",
       "        vertical-align: top;\n",
       "    }\n",
       "\n",
       "    .dataframe thead th {\n",
       "        text-align: right;\n",
       "    }\n",
       "</style>\n",
       "<table border=\"1\" class=\"dataframe\">\n",
       "  <thead>\n",
       "    <tr style=\"text-align: right;\">\n",
       "      <th></th>\n",
       "      <th>reviews.title</th>\n",
       "      <th>reviews.text</th>\n",
       "      <th>reviews.rating</th>\n",
       "      <th>reviews.doRecommend</th>\n",
       "    </tr>\n",
       "  </thead>\n",
       "  <tbody>\n",
       "    <tr>\n",
       "      <th>0</th>\n",
       "      <td>Kindle</td>\n",
       "      <td>This product so far has not disappointed. My c...</td>\n",
       "      <td>5.0</td>\n",
       "      <td>1.0</td>\n",
       "    </tr>\n",
       "    <tr>\n",
       "      <th>1</th>\n",
       "      <td>very fast</td>\n",
       "      <td>great for beginner or experienced person. Boug...</td>\n",
       "      <td>5.0</td>\n",
       "      <td>1.0</td>\n",
       "    </tr>\n",
       "    <tr>\n",
       "      <th>2</th>\n",
       "      <td>Beginner tablet for our 9 year old son.</td>\n",
       "      <td>Inexpensive tablet for him to use and learn on...</td>\n",
       "      <td>5.0</td>\n",
       "      <td>1.0</td>\n",
       "    </tr>\n",
       "    <tr>\n",
       "      <th>3</th>\n",
       "      <td>Good!!!</td>\n",
       "      <td>I've had my Fire HD 8 two weeks now and I love...</td>\n",
       "      <td>4.0</td>\n",
       "      <td>1.0</td>\n",
       "    </tr>\n",
       "    <tr>\n",
       "      <th>4</th>\n",
       "      <td>Fantastic Tablet for kids</td>\n",
       "      <td>I bought this for my grand daughter when she c...</td>\n",
       "      <td>5.0</td>\n",
       "      <td>1.0</td>\n",
       "    </tr>\n",
       "  </tbody>\n",
       "</table>\n",
       "</div>"
      ],
      "text/plain": [
       "                             reviews.title  \\\n",
       "0                                   Kindle   \n",
       "1                                very fast   \n",
       "2  Beginner tablet for our 9 year old son.   \n",
       "3                                  Good!!!   \n",
       "4                Fantastic Tablet for kids   \n",
       "\n",
       "                                        reviews.text  reviews.rating  \\\n",
       "0  This product so far has not disappointed. My c...             5.0   \n",
       "1  great for beginner or experienced person. Boug...             5.0   \n",
       "2  Inexpensive tablet for him to use and learn on...             5.0   \n",
       "3  I've had my Fire HD 8 two weeks now and I love...             4.0   \n",
       "4  I bought this for my grand daughter when she c...             5.0   \n",
       "\n",
       "   reviews.doRecommend  \n",
       "0                  1.0  \n",
       "1                  1.0  \n",
       "2                  1.0  \n",
       "3                  1.0  \n",
       "4                  1.0  "
      ]
     },
     "execution_count": 47,
     "metadata": {},
     "output_type": "execute_result"
    }
   ],
   "source": [
    "dataset = pd.read_csv('1429_1.csv')\n",
    "\n",
    "\n",
    "# Taking only useful data from dataset\n",
    "dataset = dataset.iloc[:2,[17,16,14,11]]\n",
    "\n",
    "data_encoded = dataset.replace({\n",
    "    'reviews.doRecommend': {True: 1, False : 0}\n",
    "})\n",
    "data_encoded.head(5)"
   ]
  },
  {
   "cell_type": "code",
   "execution_count": 67,
   "metadata": {},
   "outputs": [
    {
     "data": {
      "text/plain": [
       "<AxesSubplot:>"
      ]
     },
     "execution_count": 67,
     "metadata": {},
     "output_type": "execute_result"
    },
    {
     "data": {
      "image/png": "[encoded data removed]",
      "text/plain": [
       "<Figure size 432x288 with 1 Axes>"
      ]
     },
     "metadata": {
      "needs_background": "light"
     },
     "output_type": "display_data"
    }
   ],
   "source": [
    "data_encoded['reviews.doRecommend'].value_counts().sort_index().plot.bar()"
   ]
  },
  {
   "cell_type": "markdown",
   "metadata": {
    "id": "uKX1Kkp5CUie"
   },
   "source": [
    "Taking Care of missing data"
   ]
  },
  {
   "cell_type": "code",
   "execution_count": 48,
   "metadata": {
    "id": "CfMcmruWCYXL"
   },
   "outputs": [
    {
     "data": {
      "text/plain": [
       "array([5.0, 5.0, 5.0, ..., 5.0, 4.0, 4.0], dtype=object)"
      ]
     },
     "execution_count": 48,
     "metadata": {},
     "output_type": "execute_result"
    }
   ],
   "source": [
    "# Discarding observations having missing data\n",
    "\n",
    "dataset = data_encoded.dropna(axis = 0,how = 'any') # drop null value rows \n",
    "X = dataset.iloc[:, :-1].values  # getting input records \n",
    "\n",
    "#Storing rating saperately to use it later \n",
    "rating = X[:,-1]\n",
    "\n",
    "y = dataset.iloc[:, -1].values # getting output \n",
    "\n",
    "rating"
   ]
  },
  {
   "cell_type": "markdown",
   "metadata": {
    "id": "4Oq6t6YAUKF7"
   },
   "source": [
    "Visualizing Dataset"
   ]
  },
  {
   "cell_type": "code",
   "execution_count": 49,
   "metadata": {
    "colab": {
     "base_uri": "https://localhost:8080/",
     "height": 402
    },
    "id": "p46BUS1NUM9c",
    "outputId": "463d7777-8b77-4f48-adcd-10ce0b0b5a07",
    "scrolled": true
   },
   "outputs": [
    {
     "data": {
      "text/html": [
       "<div>\n",
       "<style scoped>\n",
       "    .dataframe tbody tr th:only-of-type {\n",
       "        vertical-align: middle;\n",
       "    }\n",
       "\n",
       "    .dataframe tbody tr th {\n",
       "        vertical-align: top;\n",
       "    }\n",
       "\n",
       "    .dataframe thead th {\n",
       "        text-align: right;\n",
       "    }\n",
       "</style>\n",
       "<table border=\"1\" class=\"dataframe\">\n",
       "  <thead>\n",
       "    <tr style=\"text-align: right;\">\n",
       "      <th></th>\n",
       "      <th>reviews.title</th>\n",
       "      <th>reviews.text</th>\n",
       "      <th>reviews.rating</th>\n",
       "      <th>reviews.doRecommend</th>\n",
       "    </tr>\n",
       "  </thead>\n",
       "  <tbody>\n",
       "    <tr>\n",
       "      <th>0</th>\n",
       "      <td>Kindle</td>\n",
       "      <td>This product so far has not disappointed. My c...</td>\n",
       "      <td>5.0</td>\n",
       "      <td>1.0</td>\n",
       "    </tr>\n",
       "    <tr>\n",
       "      <th>1</th>\n",
       "      <td>very fast</td>\n",
       "      <td>great for beginner or experienced person. Boug...</td>\n",
       "      <td>5.0</td>\n",
       "      <td>1.0</td>\n",
       "    </tr>\n",
       "    <tr>\n",
       "      <th>2</th>\n",
       "      <td>Beginner tablet for our 9 year old son.</td>\n",
       "      <td>Inexpensive tablet for him to use and learn on...</td>\n",
       "      <td>5.0</td>\n",
       "      <td>1.0</td>\n",
       "    </tr>\n",
       "    <tr>\n",
       "      <th>3</th>\n",
       "      <td>Good!!!</td>\n",
       "      <td>I've had my Fire HD 8 two weeks now and I love...</td>\n",
       "      <td>4.0</td>\n",
       "      <td>1.0</td>\n",
       "    </tr>\n",
       "    <tr>\n",
       "      <th>4</th>\n",
       "      <td>Fantastic Tablet for kids</td>\n",
       "      <td>I bought this for my grand daughter when she c...</td>\n",
       "      <td>5.0</td>\n",
       "      <td>1.0</td>\n",
       "    </tr>\n",
       "    <tr>\n",
       "      <th>5</th>\n",
       "      <td>Just what we expected</td>\n",
       "      <td>This amazon fire 8 inch tablet is the perfect ...</td>\n",
       "      <td>5.0</td>\n",
       "      <td>1.0</td>\n",
       "    </tr>\n",
       "    <tr>\n",
       "      <th>6</th>\n",
       "      <td>great e-reader tablet</td>\n",
       "      <td>Great for e-reading on the go, nice and light ...</td>\n",
       "      <td>4.0</td>\n",
       "      <td>1.0</td>\n",
       "    </tr>\n",
       "    <tr>\n",
       "      <th>7</th>\n",
       "      <td>Great for gifts</td>\n",
       "      <td>I gave this as a Christmas gift to my inlaws, ...</td>\n",
       "      <td>5.0</td>\n",
       "      <td>1.0</td>\n",
       "    </tr>\n",
       "  </tbody>\n",
       "</table>\n",
       "</div>"
      ],
      "text/plain": [
       "                             reviews.title  \\\n",
       "0                                   Kindle   \n",
       "1                                very fast   \n",
       "2  Beginner tablet for our 9 year old son.   \n",
       "3                                  Good!!!   \n",
       "4                Fantastic Tablet for kids   \n",
       "5                    Just what we expected   \n",
       "6                    great e-reader tablet   \n",
       "7                          Great for gifts   \n",
       "\n",
       "                                        reviews.text  reviews.rating  \\\n",
       "0  This product so far has not disappointed. My c...             5.0   \n",
       "1  great for beginner or experienced person. Boug...             5.0   \n",
       "2  Inexpensive tablet for him to use and learn on...             5.0   \n",
       "3  I've had my Fire HD 8 two weeks now and I love...             4.0   \n",
       "4  I bought this for my grand daughter when she c...             5.0   \n",
       "5  This amazon fire 8 inch tablet is the perfect ...             5.0   \n",
       "6  Great for e-reading on the go, nice and light ...             4.0   \n",
       "7  I gave this as a Christmas gift to my inlaws, ...             5.0   \n",
       "\n",
       "   reviews.doRecommend  \n",
       "0                  1.0  \n",
       "1                  1.0  \n",
       "2                  1.0  \n",
       "3                  1.0  \n",
       "4                  1.0  \n",
       "5                  1.0  \n",
       "6                  1.0  \n",
       "7                  1.0  "
      ]
     },
     "execution_count": 49,
     "metadata": {},
     "output_type": "execute_result"
    }
   ],
   "source": [
    "dataset.head(8)"
   ]
  },
  {
   "cell_type": "code",
   "execution_count": 50,
   "metadata": {
    "colab": {
     "base_uri": "https://localhost:8080/"
    },
    "id": "acrrCXf6VW0d",
    "outputId": "3a9f3892-2cc8-405b-ff22-fcafc368e1a8"
   },
   "outputs": [
    {
     "name": "stdout",
     "output_type": "stream",
     "text": [
      "[['Kindle'\n",
      "  'This product so far has not disappointed. My children love to use it and I like the ability to monitor control what content they see with ease.'\n",
      "  5.0]\n",
      " ['very fast'\n",
      "  'great for beginner or experienced person. Bought as a gift and she loves it'\n",
      "  5.0]\n",
      " ['Beginner tablet for our 9 year old son.'\n",
      "  'Inexpensive tablet for him to use and learn on, step up from the NABI. He was thrilled with it, learn how to Skype on it already...'\n",
      "  5.0]\n",
      " ...\n",
      " ['Love it'\n",
      "  'Simply the best to watch tv series and movies. It works even better if you are an Amazon Prime subscriber, with access to a many free goodies.'\n",
      "  5.0]\n",
      " ['Try it, you will like it'\n",
      "  'I was looking for ways to cut cost from a raising cable bill and a friend suggested I try the Amazon Fire. At first I didn���t know if this was something I could do. Once I was able to maneuver through the process, I love it.'\n",
      "  4.0]\n",
      " ['Great little device'\n",
      "  'I enjoy my kindle tv, it beats paying for cable every month ������'\n",
      "  4.0]]\n",
      "[1. 1. 1. ... 1. 1. 1.]\n"
     ]
    }
   ],
   "source": [
    "print(X)\n",
    "print(y)"
   ]
  },
  {
   "cell_type": "markdown",
   "metadata": {
    "id": "MXXywmkO7O_c"
   },
   "source": [
    "Cleaning the Dataset"
   ]
  },
  {
   "cell_type": "code",
   "execution_count": 51,
   "metadata": {
    "colab": {
     "base_uri": "https://localhost:8080/"
    },
    "id": "iGQWQgz1nwtn",
    "outputId": "093eec94-aedf-4824-cb61-e068c0322469"
   },
   "outputs": [
    {
     "name": "stderr",
     "output_type": "stream",
     "text": [
      "[nltk_data] Error loading stopwords: <urlopen error [Errno 11001]\n",
      "[nltk_data]     getaddrinfo failed>\n"
     ]
    }
   ],
   "source": [
    "\n",
    "# Downloading stopwords which does not having much significance\n",
    "nltk.download('stopwords')\n",
    "\n",
    "\n",
    "# Stemmer will reduce words in their root form\n",
    "\n",
    "ps = PorterStemmer()\n",
    "all_stopwords = stopwords.words('english')\n",
    "\n",
    "# Removing some stopwords which have significance effect in building this model\n",
    "# excluding some words from stopwords(all_stopwords)\n",
    "rem = ['not', 'ain', 'aren', \"aren't\", 'couldn', \"couldn't\", 'didn', \"didn't\", 'doesn', \"doesn't\", 'hadn', \"hadn't\", 'hasn', \n",
    "       \"hasn't\", 'haven', \"haven't\", 'isn', \"isn't\", 'ma', 'mightn', \"mightn't\", 'mustn', \"mustn't\", 'needn', \"needn't\", 'shan', \n",
    "       \"shan't\", 'shouldn', \"shouldn't\", 'wasn', \"wasn't\", 'weren', \"weren't\", 'won', \"won't\", 'wouldn', \"wouldn't\", 'don', \"don't\", \n",
    "       'just', 'too', 'very', 'no', 'nor', 'only', 'own', 'same', 'again', 'against', 'but',]\n",
    "for s in rem:\n",
    "  all_stopwords.remove(s) # exeption of the above terms from stop words \n",
    "\n",
    "def find_clean_text(temp):\n",
    "  # Removing all characters other than alphabet\n",
    "  temp = re.sub('[^a-zA-Z]', ' ', temp)\n",
    "  temp = temp.lower()\n",
    "  temp = temp.split()\n",
    "  temp = [ps.stem(word) for word in temp if not word in set(all_stopwords)] # stemming and escluding stopwords \n",
    "  temp = ' '.join(temp)\n",
    "  return temp\n"
   ]
  },
  {
   "cell_type": "code",
   "execution_count": 52,
   "metadata": {
    "id": "w-fxeQt18PRG"
   },
   "outputs": [],
   "source": [
    "corpus = []\n",
    "for i in range(X.shape[0]):\n",
    "  # Concatanating both title and detailed review\n",
    "  temp = X[i][0] + ' ' + X[i][1]\n",
    "  temp = find_clean_text(temp)\n",
    "  corpus.append(temp)\n"
   ]
  },
  {
   "cell_type": "markdown",
   "metadata": {
    "id": "_HuxS5CR_06t"
   },
   "source": [
    "Creating the Bag of Words model"
   ]
  },
  {
   "cell_type": "code",
   "execution_count": 53,
   "metadata": {
    "id": "NswUCbBP_1q-"
   },
   "outputs": [
    {
     "data": {
      "text/plain": [
       "array([[0, 1, 0, ..., 0, 0, 5.0],\n",
       "       [0, 0, 0, ..., 0, 0, 5.0],\n",
       "       [0, 0, 0, ..., 0, 0, 5.0],\n",
       "       ...,\n",
       "       [0, 0, 0, ..., 0, 0, 5.0],\n",
       "       [0, 0, 1, ..., 0, 0, 4.0],\n",
       "       [0, 0, 0, ..., 0, 0, 4.0]], dtype=object)"
      ]
     },
     "execution_count": 53,
     "metadata": {},
     "output_type": "execute_result"
    }
   ],
   "source": [
    "cv = CountVectorizer(max_features = 3000)\n",
    "X = cv.fit_transform(corpus).toarray()\n",
    "\n",
    "#Adding rating in the matrix of feature X\n",
    "\n",
    "rating = rating.reshape(rating.shape[0],1)  # conver from horizontal to veryical\n",
    "X = np.append(X,rating,axis=1) # concating the review vector with its rate \n",
    "X\n"
   ]
  },
  {
   "cell_type": "markdown",
   "metadata": {
    "id": "Jdm2kv26_5LH"
   },
   "source": [
    "Splitting the dataset into the Training set and Test set"
   ]
  },
  {
   "cell_type": "code",
   "execution_count": 55,
   "metadata": {
    "id": "VKzzWTNx_9Em"
   },
   "outputs": [],
   "source": [
    "# Splitting dataset into test set and train set which have equal percentage of data with both positive and negative review\n",
    "#This is done as precautionary measure considering that very small number (approx 1300 out of 34000) data have negative review.\n",
    "pos_x = []\n",
    "pos_y = []\n",
    "neg_x = []\n",
    "neg_y = []\n",
    "for i in range(X.shape[0]):\n",
    "  if y[i]==1:\n",
    "    pos_x.append(X[i])\n",
    "    pos_y.append(y[i])\n",
    "  else:\n",
    "    neg_x.append(X[i])\n",
    "    neg_y.append(y[i])\n",
    "\n",
    "from sklearn.model_selection import train_test_split\n",
    "X_train1, X_test1, y_train1, y_test1 = train_test_split(pos_x, pos_y, test_size = 0.20, random_state=0)\n",
    "X_train, X_test, y_train, y_test = train_test_split(neg_x, neg_y, test_size = 0.20 , random_state=0)\n",
    "\n",
    "for i in range(len(X_train1)):\n",
    "  X_train.append(X_train1[i])\n",
    "  y_train.append(y_train1[i])\n",
    "for i in range(len(X_test1)):\n",
    "  X_test.append(X_test1[i])\n",
    "  y_test.append(y_test1[i])\n",
    "\n",
    "X_train = np.array(X_train)\n",
    "X_test = np.array(X_test)\n",
    "y_train = np.array(y_train)\n",
    "y_test = np.array(y_test)\n"
   ]
  },
  {
   "cell_type": "markdown",
   "metadata": {
    "id": "QA1fapgLAGvm"
   },
   "source": [
    "Training the Multinomial Naive Bayes model on the Training set"
   ]
  },
  {
   "cell_type": "code",
   "execution_count": 56,
   "metadata": {
    "colab": {
     "base_uri": "https://localhost:8080/"
    },
    "id": "aDIq9iesAHku",
    "outputId": "581c4f87-df13-4ffc-8f04-5a51d0220c50"
   },
   "outputs": [
    {
     "data": {
      "text/plain": [
       "MultinomialNB()"
      ]
     },
     "execution_count": 56,
     "metadata": {},
     "output_type": "execute_result"
    }
   ],
   "source": [
    "classifier = MultinomialNB()\n",
    "rus = RandomUnderSampler(sampling_strategy=0.5, random_state=0)\n",
    "X_train_rus, y_train_rus = rus.fit_resample(X_train, y_train)\n",
    "\n",
    "ros = RandomOverSampler(sampling_strategy=1.0, random_state=0)\n",
    "\n",
    "X_train_balanced, y_train_balanced = ros.fit_resample(X_train_rus, y_train_rus)\n",
    "\n",
    "classifier.fit(X_train_balanced, y_train_balanced)"
   ]
  },
  {
   "cell_type": "markdown",
   "metadata": {
    "id": "ODbV2QDMAP1i"
   },
   "source": [
    "Making the Confusion Matrix"
   ]
  },
  {
   "cell_type": "code",
   "execution_count": 57,
   "metadata": {
    "colab": {
     "base_uri": "https://localhost:8080/"
    },
    "id": "2Ro9AU5XASV0",
    "outputId": "a2c23ab0-ccf3-42e8-91a3-5568aacf0107"
   },
   "outputs": [
    {
     "name": "stdout",
     "output_type": "stream",
     "text": [
      "Result on training set :\n",
      "Confusion matrix :\n",
      "[[1964  250]\n",
      " [ 130 2084]]\n",
      "accuracy :  0.9141824751580849\n",
      "Result on test set :\n",
      "Confusion matrix :\n",
      "[[ 240   37]\n",
      " [ 570 5966]]\n",
      "accuracy 0.9109056216057537\n"
     ]
    }
   ],
   "source": [
    "print('Result on training set :')\n",
    "print('Confusion matrix :')\n",
    "y_pred_train=classifier.predict(X_train_balanced)\n",
    "con_mat_train=confusion_matrix(y_train_balanced, y_pred_train) # confusion matrix\n",
    "print(con_mat_train)\n",
    "print('accuracy : ',accuracy_score(y_train_balanced,y_pred_train ))\n",
    "\n",
    "print('Result on test set :')\n",
    "y_pred_test = classifier.predict(X_test)\n",
    "print('Confusion matrix :')\n",
    "con_mat_test=confusion_matrix(y_test, y_pred_test)\n",
    "print(con_mat_test)\n",
    "print('accuracy',accuracy_score(y_test, y_pred_test))"
   ]
  },
  {
   "cell_type": "code",
   "execution_count": 58,
   "metadata": {},
   "outputs": [
    {
     "data": {
      "image/png": "[encoded data removed]",
      "text/plain": [
       "<Figure size 432x288 with 1 Axes>"
      ]
     },
     "metadata": {
      "needs_background": "light"
     },
     "output_type": "display_data"
    }
   ],
   "source": [
    "sns.heatmap(con_mat_train.T, annot=True, fmt='d', cbar=False)\n",
    "\n",
    "plt.title('Confusion Matrix for train')\n",
    "plt.xlabel('true label')\n",
    "plt.ylabel('predicted label')\n",
    "plt.savefig(\"train_confusion_matrix.png\")\n",
    "plt.show()"
   ]
  },
  {
   "cell_type": "code",
   "execution_count": 59,
   "metadata": {},
   "outputs": [
    {
     "data": {
      "image/png": "[encoded data removed]",
      "text/plain": [
       "<Figure size 432x288 with 1 Axes>"
      ]
     },
     "metadata": {
      "needs_background": "light"
     },
     "output_type": "display_data"
    }
   ],
   "source": [
    "sns.heatmap(con_mat_test.T, annot=True, fmt='d', cbar=False)\n",
    "\n",
    "plt.title('Confusion Matrix for test')\n",
    "plt.xlabel('true label')\n",
    "plt.ylabel('predicted label')\n",
    "plt.savefig(\"test_confusion_matrix.png\")\n",
    "plt.show()"
   ]
  },
  {
   "cell_type": "markdown",
   "metadata": {
    "id": "f_My9nmCnbhe"
   },
   "source": [
    "Making Prediction on some reviews from test set"
   ]
  },
  {
   "cell_type": "code",
   "execution_count": 60,
   "metadata": {
    "colab": {
     "base_uri": "https://localhost:8080/"
    },
    "id": "0qCgZcPf9WSY",
    "outputId": "8423157f-8e0d-4abb-9d95-73bfb066f01c"
   },
   "outputs": [
    {
     "name": "stdout",
     "output_type": "stream",
     "text": [
      "Title : Awesome Tablet \n",
      "Review : This tablet was a Christmas gift for my dad. It has great resolution and is easy to use. With Amazon prime you get free movies, books, and games. I would highly recommend. \n",
      "Rating : 5.0\n",
      "True value : 1.0\n",
      "Prediction : 1\n"
     ]
    }
   ],
   "source": [
    "random.seed(10)\n",
    "\n",
    "\n",
    "index = random.randrange(dataset.shape[0])\n",
    "print('Title :',dataset['reviews.title'][index],'\\nReview :',dataset['reviews.text'][index],'\\nRating :',dataset['reviews.rating'][index])\n",
    "print(\"True value :\", dataset['reviews.doRecommend'][index])\n",
    "\n",
    "clean_seq=find_clean_text(dataset['reviews.title'][index]+' '+dataset['reviews.text'][index])\n",
    "cv_mat=cv.transform ([clean_seq])\n",
    "seq=np.append (cv_mat.toarray(),[[dataset['reviews.rating'][index]]],axis=1)\n",
    "\n",
    "prediction=classifier.predict(seq)\n",
    "\n",
    "print(\"Prediction :\",int(prediction))"
   ]
  },
  {
   "cell_type": "code",
   "execution_count": 61,
   "metadata": {},
   "outputs": [
    {
     "name": "stdout",
     "output_type": "stream",
     "text": [
      "Title : Good home automation product \n",
      "Review : Integrated easily with ecobee3, insteon products. Music playing capability is great with prime membership \n",
      "Rating : 5.0\n",
      "True value : 1.0\n",
      "Prediction : 1\n"
     ]
    }
   ],
   "source": [
    "\n",
    "index = random.randrange(dataset.shape[0])\n",
    "\n",
    "print('Title :',dataset['reviews.title'][index],'\\nReview :',dataset['reviews.text'][index],'\\nRating :',dataset['reviews.rating'][index])\n",
    "print(\"True value :\", dataset['reviews.doRecommend'][index])\n",
    "\n",
    "clean_seq=find_clean_text(dataset['reviews.title'][index]+' '+dataset['reviews.text'][index])\n",
    "cv_mat=cv.transform ([clean_seq])\n",
    "seq=np.append (cv_mat.toarray(),[[dataset['reviews.rating'][index]]],axis=1)\n",
    "\n",
    "prediction=classifier.predict(seq)\n",
    "\n",
    "print(\"Prediction :\",int(prediction))"
   ]
  },
  {
   "cell_type": "code",
   "execution_count": 62,
   "metadata": {},
   "outputs": [
    {
     "name": "stdout",
     "output_type": "stream",
     "text": [
      "Title : I like it \n",
      "Review : I bought one from BestBuy instead of buying one that is jail-broke. That is a moral choice for me. That being said, I can add the apps I want. The hardest part so far is getting used to not having a DVR and not being able to fast fwd through commercials...but I'm saving over $100/ month over cable, including the $40/month of apps that I'm currently buying. \n",
      "Rating : 4.0\n",
      "True value : 1.0\n",
      "Prediction : 0\n"
     ]
    }
   ],
   "source": [
    "index = random.randrange(dataset.shape[0])\n",
    "\n",
    "print('Title :',dataset['reviews.title'][index],'\\nReview :',dataset['reviews.text'][index],'\\nRating :',dataset['reviews.rating'][index])\n",
    "print(\"True value :\", dataset['reviews.doRecommend'][index])\n",
    "\n",
    "clean_seq=find_clean_text(dataset['reviews.title'][index]+' '+dataset['reviews.text'][index])\n",
    "cv_mat=cv.transform ([clean_seq])\n",
    "seq=np.append (cv_mat.toarray(),[[dataset['reviews.rating'][index]]],axis=1)\n",
    "\n",
    "prediction=classifier.predict(seq)\n",
    "\n",
    "print(\"Prediction :\",int(prediction))"
   ]
  },
  {
   "cell_type": "code",
   "execution_count": 63,
   "metadata": {},
   "outputs": [
    {
     "name": "stdout",
     "output_type": "stream",
     "text": [
      "Title : TERRIBLE DONT BUY \n",
      "Review : i Bought this around black friday for $60 hoping it would be awesome... it failed so hard i tried multiple different micro SD cards none of which were recognized and YES i formated them with every format i could think of ... Fat32, NTFS, Fat, Xfat... i even tried to have the tablet do it... didnt work... to make matters worse half the apps i wanted to use werent in the app store and i came to find out that it isnt linked to the normal google play store this tablet has its own app store which is missing many common apps... the main reason i bought this was to play clash of clans and i cant because it wasnt on the app store... i tried to also use aftermarket play stores to play COC but it didnt work... launched and played 1 time but didnt work or update after that... needless to say i returned it and bought a $250 samsung galaxy tab A 10.1 (2016 version) with S-pen and its WAYYYYY better... bottom line you get what you pay for... also hint the s-pen version has an extra 1 GB of ram over the non pen version... so you should get that if you can afford the extra $50... \n",
      "Rating : 1.0\n",
      "True value : 0.0\n",
      "Prediction : 0\n"
     ]
    }
   ],
   "source": [
    "\n",
    "index = 126\n",
    "\n",
    "print('Title :',dataset['reviews.title'][index],'\\nReview :',dataset['reviews.text'][index],'\\nRating :',dataset['reviews.rating'][index])\n",
    "print(\"True value :\", dataset['reviews.doRecommend'][index])\n",
    "\n",
    "clean_seq=find_clean_text(dataset['reviews.title'][index]+' '+dataset['reviews.text'][index])\n",
    "cv_mat=cv.transform ([clean_seq])\n",
    "seq=np.append (cv_mat.toarray(),[[dataset['reviews.rating'][index]]],axis=1)\n",
    "\n",
    "prediction=classifier.predict(seq)\n",
    "\n",
    "print(\"Prediction :\",int(prediction))"
   ]
  },
  {
   "cell_type": "code",
   "execution_count": 64,
   "metadata": {},
   "outputs": [
    {
     "name": "stdout",
     "output_type": "stream",
     "text": [
      "Title : Ended up returning \n",
      "Review : I bought this tablet for my 4 year old daughter. Too many advertisements. I would rather pay more and not have a single ad. \n",
      "Rating : 1.0\n",
      "True value : 0.0\n",
      "Prediction : 0\n"
     ]
    }
   ],
   "source": [
    "index = 169\n",
    "\n",
    "print('Title :',dataset['reviews.title'][index],'\\nReview :',dataset['reviews.text'][index],'\\nRating :',dataset['reviews.rating'][index])\n",
    "print(\"True value :\", dataset['reviews.doRecommend'][index])\n",
    "\n",
    "clean_seq=find_clean_text(dataset['reviews.title'][index]+' '+dataset['reviews.text'][index])\n",
    "cv_mat=cv.transform ([clean_seq])\n",
    "seq=np.append (cv_mat.toarray(),[[dataset['reviews.rating'][index]]],axis=1)\n",
    "\n",
    "prediction=classifier.predict(seq)\n",
    "\n",
    "print(\"Prediction :\",int(prediction))\n"
   ]
  },
  {
   "cell_type": "code",
   "execution_count": 70,
   "metadata": {
    "colab": {
     "base_uri": "https://localhost:8080/"
    },
    "id": "kxayF8lbPmQs",
    "outputId": "b84efa16-82d3-4635-d392-b126571f9cca"
   },
   "outputs": [
    {
     "name": "stdout",
     "output_type": "stream",
     "text": [
      "enter title : ahmed \n",
      "enter review : this book is very good\n",
      "enetr rate : 2\n",
      "Prediction : 1\n"
     ]
    }
   ],
   "source": [
    "title=input(\"enter title : \")\n",
    "review=input(\"enter review : \")\n",
    "rate=float(input(\"enetr rate : \"))\n",
    "\n",
    "\n",
    "\n",
    "clean_seq=find_clean_text(title+' '+review)\n",
    "cv_mat=cv.transform ([clean_seq])\n",
    "seq=np.append (cv_mat.toarray(),[[rate]],axis=1)\n",
    "\n",
    "prediction=classifier.predict(seq)\n",
    "\n",
    "print(\"Prediction :\",int(prediction))"
   ]
  },
  {
   "cell_type": "markdown",
   "metadata": {},
   "source": []
  }
 ],
 "metadata": {
  "accelerator": "GPU",
  "colab": {
   "name": "Untitled6.ipynb",
   "provenance": []
  },
  "kernelspec": {
   "display_name": "Python 3",
   "language": "python",
   "name": "python3"
  },
  "language_info": {
   "codemirror_mode": {
    "name": "ipython",
    "version": 3
   },
   "file_extension": ".py",
   "mimetype": "text/x-python",
   "name": "python",
   "nbconvert_exporter": "python",
   "pygments_lexer": "ipython3",
   "version": "3.8.8"
  }
 },
 "nbformat": 4,
 "nbformat_minor": 1
}
